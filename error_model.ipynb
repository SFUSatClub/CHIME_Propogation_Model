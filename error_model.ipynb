{
 "cells": [
  {
   "cell_type": "markdown",
   "metadata": {},
   "source": [
    "# Import"
   ]
  },
  {
   "cell_type": "code",
   "execution_count": 1,
   "metadata": {
    "collapsed": true
   },
   "outputs": [],
   "source": [
    "from sympy import *"
   ]
  },
  {
   "cell_type": "markdown",
   "metadata": {},
   "source": [
    "# Model"
   ]
  },
  {
   "cell_type": "code",
   "execution_count": 2,
   "metadata": {
    "collapsed": false
   },
   "outputs": [],
   "source": [
    "re, ra, l, theta, lamda = symbols('re ra l theta lambda')\n",
    "dre, dra, dl, dtheta = symbols('dre dra dl dtheta')"
   ]
  },
  {
   "cell_type": "code",
   "execution_count": 3,
   "metadata": {
    "collapsed": true
   },
   "outputs": [],
   "source": [
    "# rl = sqrt(re^2+(re+ra)^2-2*re*(re+ra)*cos(l))\n",
    "rl = sqrt(re ** 2 + (re + ra) ** 2 - 2 * re * (re + ra) * cos(l))\n",
    "\n",
    "# phi = theta - asin((re/rl)*sin(l))\n",
    "phi = theta - asin((re / rl) * sin(l))\n",
    "\n",
    "# P = 2*exp(-0.5*(phi/0.445)^2) %+20*log(lamda/(4*pi*rl))\n",
    "P = 2 * exp(-0.5 * (phi / 0.445) ** 2) # + 20 * log(lamda / (4 * pi * rl))\n",
    "\n",
    "# frac = sqrt((diff(P, l)*dl)^2+(diff(P, ra)*dra)^2+(diff(P, theta)*dtheta)^2)/P\n",
    "frac = sqrt((diff(P, l) * dl) ** 2 + (diff(P, ra) * dra) ** 2 + (diff(P, theta) * dtheta) ** 2) / P"
   ]
  },
  {
   "cell_type": "code",
   "execution_count": 4,
   "metadata": {
    "collapsed": false
   },
   "outputs": [
    {
     "data": {
      "text/plain": [
       "4.45304815263102e-36*sqrt(-5.9811505011843e+61*dl**2 - 3.66202548691643e+57*dra**2 + 2.19514900550015e+67)"
      ]
     },
     "execution_count": 4,
     "metadata": {},
     "output_type": "execute_result"
    }
   ],
   "source": [
    "# placed=subs(frac, [lamda re ra l theta], [700E6 6400E3 800E3 0.4759 1]) %worst case numbers\n",
    "placed = frac.subs([(lamda, 700e6), (re, 6400e3), (ra, 800e3), (l, 0.4759), (theta, 1)])\n",
    "\n",
    "# surffuncdra=solve(placed==0.0047, dtheta) %looking for 1% fractional error solution, only works when isolating dtheta\n",
    "surffuncdra = solve(placed - 0.01, dtheta)[1]\n",
    "\n",
    "surffuncdra"
   ]
  }
 ],
 "metadata": {
  "kernelspec": {
   "display_name": "Python 2",
   "language": "python",
   "name": "python2"
  },
  "language_info": {
   "codemirror_mode": {
    "name": "ipython",
    "version": 2
   },
   "file_extension": ".py",
   "mimetype": "text/x-python",
   "name": "python",
   "nbconvert_exporter": "python",
   "pygments_lexer": "ipython2",
   "version": "2.7.6"
  }
 },
 "nbformat": 4,
 "nbformat_minor": 1
}
